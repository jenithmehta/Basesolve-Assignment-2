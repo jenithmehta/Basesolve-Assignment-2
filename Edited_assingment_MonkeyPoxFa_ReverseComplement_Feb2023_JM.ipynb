{
 "cells": [
  {
   "cell_type": "code",
   "execution_count": 17,
   "metadata": {},
   "outputs": [],
   "source": [
    "from Bio import SeqIO\n",
    "import random"
   ]
  },
  {
   "cell_type": "code",
   "execution_count": 18,
   "metadata": {},
   "outputs": [],
   "source": [
    "# Reading fasta file\n",
    "filepath='MonkeyPox.fasta'\n",
    "\n",
    "sequences = [i for i in SeqIO.parse(filepath,'fasta')]"
   ]
  },
  {
   "cell_type": "code",
   "execution_count": 19,
   "metadata": {},
   "outputs": [],
   "source": [
    "# Extracting sequences to edit\n",
    "seq_edit = sequences[0:9]"
   ]
  },
  {
   "cell_type": "code",
   "execution_count": 20,
   "metadata": {},
   "outputs": [
    {
     "data": {
      "text/plain": [
       "SeqRecord(seq=Seq('CTCTTTCTCTCTTCGATGGGTCTCACAAAAATATTAAACCTCTTTCTGATGGAG...GAG'), id='gi|661921128|gb|KJ642615.1|', name='gi|661921128|gb|KJ642615.1|', description='gi|661921128|gb|KJ642615.1| Monkeypox virus strain W-Nigeria, complete genome', dbxrefs=[])"
      ]
     },
     "execution_count": 20,
     "metadata": {},
     "output_type": "execute_result"
    }
   ],
   "source": [
    "seq_edit[0]"
   ]
  },
  {
   "cell_type": "code",
   "execution_count": 21,
   "metadata": {},
   "outputs": [],
   "source": [
    "# reverse complement\n",
    "rev_com=[]\n",
    "for i in seq_edit:\n",
    "    rev_com.append(i.reverse_complement(id ='rev_complement_'+i.id,name=True,description=True))"
   ]
  },
  {
   "cell_type": "code",
   "execution_count": 23,
   "metadata": {
    "collapsed": true
   },
   "outputs": [
    {
     "data": {
      "text/plain": [
       "[SeqRecord(seq=Seq('CTCTTTCTCTCTTCGATGGGTCTCACAAAAATATTAAACCTCTTTCTGATGGAG...GAG'), id='rev_complement_gi|661921128|gb|KJ642615.1|', name='gi|661921128|gb|KJ642615.1|', description='gi|661921128|gb|KJ642615.1| Monkeypox virus strain W-Nigeria, complete genome', dbxrefs=[]),\n",
       " SeqRecord(seq=Seq('CGAAGAGAGAAAGAGATGGTTAGTCAAGATATTTTTCTTAGTACAAAAGTCAAT...TCG'), id='rev_complement_gi|661921484|gb|KJ642617.1|', name='gi|661921484|gb|KJ642617.1|', description='gi|661921484|gb|KJ642617.1| Monkeypox virus strain Nigeria-SE-1971, complete genome', dbxrefs=[]),\n",
       " SeqRecord(seq=Seq('CGAAGAGAGAAAGAGATGGTTAGTCAAGATATTTTTCTTAGTACAAAAGTCAAT...TCG'), id='rev_complement_gi|1706883239|gb|MK783027.1|', name='gi|1706883239|gb|MK783027.1|', description='gi|1706883239|gb|MK783027.1| UNVERIFIED: Monkeypox virus strain 3018, partial genome', dbxrefs=[]),\n",
       " SeqRecord(seq=Seq('CGAAGAGAGAAAGAGATGGTTAGTCAAGATATTTTTCTTAGTACAAAAGTCAAT...TCG'), id='rev_complement_gi|1706883240|gb|MK783028.1|', name='gi|1706883240|gb|MK783028.1|', description='gi|1706883240|gb|MK783028.1| UNVERIFIED: Monkeypox virus strain 3019, complete genome', dbxrefs=[]),\n",
       " SeqRecord(seq=Seq('CGAAGAGAGAAAGAGATGGTTAGTCAAGATATTTTTCTTAGTACAAAAGTCAAT...TCG'), id='rev_complement_gi|1706883241|gb|MK783029.1|', name='gi|1706883241|gb|MK783029.1|', description='gi|1706883241|gb|MK783029.1| UNVERIFIED: Monkeypox virus strain 3029, complete genome', dbxrefs=[]),\n",
       " SeqRecord(seq=Seq('CGAAGAGAGAAAGAGATGGTTAGTCAAGATATTTTTCTTAGTACAAAAGTCAAT...TCG'), id='rev_complement_gi|1706883242|gb|MK783030.1|', name='gi|1706883242|gb|MK783030.1|', description='gi|1706883242|gb|MK783030.1| UNVERIFIED: Monkeypox virus strain 3025, complete genome', dbxrefs=[]),\n",
       " SeqRecord(seq=Seq('CGAAGAGAGAAAGAGATGGTTAGTCAAGATATTTTTCTTAGTACAAAAGTCAAT...TCG'), id='rev_complement_gi|1706883243|gb|MK783031.1|', name='gi|1706883243|gb|MK783031.1|', description='gi|1706883243|gb|MK783031.1| UNVERIFIED: Monkeypox virus strain 3020, complete genome', dbxrefs=[]),\n",
       " SeqRecord(seq=Seq('CGAAGAGAGAAAGAGATGGTTAGTCAAGATATTTTTCTTAGTACAAAAGTCAAT...TCG'), id='rev_complement_gi|1706883244|gb|MK783032.1|', name='gi|1706883244|gb|MK783032.1|', description='gi|1706883244|gb|MK783032.1| UNVERIFIED: Monkeypox virus strain 3030, complete genome', dbxrefs=[]),\n",
       " SeqRecord(seq=Seq('CGAAGAGAGAAAGAGATGGTTAGTCAAGATATTTTTCTTAGTACAAAAGTCAAT...TCG'), id='rev_complement_gi|1706883245|gb|MK783033.1|', name='gi|1706883245|gb|MK783033.1|', description='gi|1706883245|gb|MK783033.1| UNVERIFIED: Monkeypox virus strain 2920, partial genome', dbxrefs=[])]"
      ]
     },
     "execution_count": 23,
     "metadata": {},
     "output_type": "execute_result"
    }
   ],
   "source": [
    "rev_com"
   ]
  },
  {
   "cell_type": "markdown",
   "metadata": {},
   "source": [
    "#### Changing 1 nucleotide at a random place"
   ]
  },
  {
   "cell_type": "code",
   "execution_count": 8,
   "metadata": {},
   "outputs": [],
   "source": [
    "nuc_lst = ['A','C','T','G']"
   ]
  },
  {
   "cell_type": "code",
   "execution_count": 34,
   "metadata": {},
   "outputs": [],
   "source": [
    "edited_final=[]\n",
    "for i in rev_com:\n",
    "    random_num = random.randint(0,len(i.seq)-1)   # since random includes last digit as well, I subtracted 1 from 1ength\n",
    "    edited_final.append(i[0:random_num] + \n",
    "                        nuc_lst[random.randint(0,len(nuc_lst)-1)] + \n",
    "                        i.seq[random_num+1:])"
   ]
  },
  {
   "cell_type": "code",
   "execution_count": 35,
   "metadata": {},
   "outputs": [
    {
     "data": {
      "text/plain": [
       "[SeqRecord(seq=Seq('CTCTTTCTCTCTTCGATGGGTCTCACAAAAATATTAAACCTCTTTCTGATGGAG...GAG'), id='rev_complement_gi|661921128|gb|KJ642615.1|', name='gi|661921128|gb|KJ642615.1|', description='gi|661921128|gb|KJ642615.1| Monkeypox virus strain W-Nigeria, complete genome', dbxrefs=[]),\n",
       " SeqRecord(seq=Seq('CGAAGAGAGAAAGAGATGGTTAGTCAAGATATTTTTCTTAGTACAAAAGTCAAT...TCG'), id='rev_complement_gi|661921484|gb|KJ642617.1|', name='gi|661921484|gb|KJ642617.1|', description='gi|661921484|gb|KJ642617.1| Monkeypox virus strain Nigeria-SE-1971, complete genome', dbxrefs=[]),\n",
       " SeqRecord(seq=Seq('CGAAGAGAGAAAGAGATGGTTAGTCAAGATATTTTTCTTAGTACAAAAGTCAAT...TCG'), id='rev_complement_gi|1706883239|gb|MK783027.1|', name='gi|1706883239|gb|MK783027.1|', description='gi|1706883239|gb|MK783027.1| UNVERIFIED: Monkeypox virus strain 3018, partial genome', dbxrefs=[]),\n",
       " SeqRecord(seq=Seq('CGAAGAGAGAAAGAGATGGTTAGTCAAGATATTTTTCTTAGTACAAAAGTCAAT...TCG'), id='rev_complement_gi|1706883240|gb|MK783028.1|', name='gi|1706883240|gb|MK783028.1|', description='gi|1706883240|gb|MK783028.1| UNVERIFIED: Monkeypox virus strain 3019, complete genome', dbxrefs=[]),\n",
       " SeqRecord(seq=Seq('CGAAGAGAGAAAGAGATGGTTAGTCAAGATATTTTTCTTAGTACAAAAGTCAAT...TCG'), id='rev_complement_gi|1706883241|gb|MK783029.1|', name='gi|1706883241|gb|MK783029.1|', description='gi|1706883241|gb|MK783029.1| UNVERIFIED: Monkeypox virus strain 3029, complete genome', dbxrefs=[]),\n",
       " SeqRecord(seq=Seq('CGAAGAGAGAAAGAGATGGTTAGTCAAGATATTTTTCTTAGTACAAAAGTCAAT...TCG'), id='rev_complement_gi|1706883242|gb|MK783030.1|', name='gi|1706883242|gb|MK783030.1|', description='gi|1706883242|gb|MK783030.1| UNVERIFIED: Monkeypox virus strain 3025, complete genome', dbxrefs=[]),\n",
       " SeqRecord(seq=Seq('CGAAGAGAGAAAGAGATGGTTAGTCAAGATATTTTTCTTAGTACAAAAGTCAAT...TCG'), id='rev_complement_gi|1706883243|gb|MK783031.1|', name='gi|1706883243|gb|MK783031.1|', description='gi|1706883243|gb|MK783031.1| UNVERIFIED: Monkeypox virus strain 3020, complete genome', dbxrefs=[]),\n",
       " SeqRecord(seq=Seq('CGAAGAGAGAAAGAGATGGTTAGTCAAGATATTTTTCTTAGTACAAAAGTCAAT...TCG'), id='rev_complement_gi|1706883244|gb|MK783032.1|', name='gi|1706883244|gb|MK783032.1|', description='gi|1706883244|gb|MK783032.1| UNVERIFIED: Monkeypox virus strain 3030, complete genome', dbxrefs=[]),\n",
       " SeqRecord(seq=Seq('CGAAGAGAGAAAGAGATGGTTAGTCAAGATATTTTTCTTAGTACAAAAGTCAAT...TCG'), id='rev_complement_gi|1706883245|gb|MK783033.1|', name='gi|1706883245|gb|MK783033.1|', description='gi|1706883245|gb|MK783033.1| UNVERIFIED: Monkeypox virus strain 2920, partial genome', dbxrefs=[])]"
      ]
     },
     "execution_count": 35,
     "metadata": {},
     "output_type": "execute_result"
    }
   ],
   "source": [
    "edited_final"
   ]
  },
  {
   "cell_type": "code",
   "execution_count": 37,
   "metadata": {},
   "outputs": [],
   "source": [
    "# Merging edited sequenced to the original Sequences\n",
    "edited_final.extend(sequences)"
   ]
  },
  {
   "cell_type": "code",
   "execution_count": 38,
   "metadata": {},
   "outputs": [
    {
     "data": {
      "text/plain": [
       "80"
      ]
     },
     "execution_count": 38,
     "metadata": {},
     "output_type": "execute_result"
    }
   ],
   "source": [
    "len(sequences)"
   ]
  },
  {
   "cell_type": "code",
   "execution_count": 39,
   "metadata": {},
   "outputs": [
    {
     "data": {
      "text/plain": [
       "89"
      ]
     },
     "execution_count": 39,
     "metadata": {},
     "output_type": "execute_result"
    }
   ],
   "source": [
    "len(edited_final)"
   ]
  },
  {
   "cell_type": "code",
   "execution_count": 40,
   "metadata": {},
   "outputs": [
    {
     "data": {
      "text/plain": [
       "89"
      ]
     },
     "execution_count": 40,
     "metadata": {},
     "output_type": "execute_result"
    }
   ],
   "source": [
    "# Saving fasta file\n",
    "SeqIO.write(edited_final,'edited_moneky_pox.fa','fasta')"
   ]
  },
  {
   "cell_type": "markdown",
   "metadata": {},
   "source": [
    "- Conclusion :- \n",
    "- Feb 2023 Learned to use BioseqIO and completed the assignment."
   ]
  }
 ],
 "metadata": {
  "kernelspec": {
   "display_name": "Python 3 (ipykernel)",
   "language": "python",
   "name": "python3"
  },
  "language_info": {
   "codemirror_mode": {
    "name": "ipython",
    "version": 3
   },
   "file_extension": ".py",
   "mimetype": "text/x-python",
   "name": "python",
   "nbconvert_exporter": "python",
   "pygments_lexer": "ipython3",
   "version": "3.8.16"
  }
 },
 "nbformat": 4,
 "nbformat_minor": 4
}
